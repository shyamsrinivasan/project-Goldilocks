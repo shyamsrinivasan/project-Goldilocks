{
 "cells": [
  {
   "cell_type": "markdown",
   "metadata": {},
   "source": [
    "# Using PyMC for parameter estimation \n",
    "_______________\n",
    "## Estimate parameters of ODE using Bayesian Inference on a smaller model "
   ]
  },
  {
   "cell_type": "markdown",
   "metadata": {},
   "source": [
    "### Motivation\n",
    "I wanted to test whether I could code in **PyMC** and not have to use **R** to achieve the same result; i.e do parameter estimation using *Bayesian Inference*"
   ]
  },
  {
   "cell_type": "markdown",
   "metadata": {},
   "source": [
    "To test the "
   ]
  },
  {
   "cell_type": "code",
   "execution_count": 1,
   "metadata": {
    "collapsed": false
   },
   "outputs": [],
   "source": [
    "import pymc as pm\n",
    "import numpy as np\n",
    "from scipy.integrate import odeint\n",
    "\n",
    "timedata=np.genfromtxt(\"data/timedata.txt\", delimiter=',')\n",
    "glc_concentration=np.genfromtxt(\"data/GLCexconc.txt\", delimiter=',')\n",
    " \n",
    "kcat_prob = pm.Uniform('kcat', 0.01, 1.0)\n",
    "vmaxf_prob = pm.Uniform('vmaxf', 0.01, 1.0)\n",
    "\n",
    " \n",
    "tspan = timedata\n",
    "initialBiomass=0.043 #gDwt/l\n",
    "initialGLCexconc=21 #mM\n",
    "initialGLCinconc=0\n",
    "initialG6pconc=0.801\n",
    "initialG6Pproconc=0.801\n",
    "rho=564 #gdw/Lcell\n",
    "metabolite0 = [initialGLCexconc, initialGLCinconc, initialBiomass] #Initial conditions\n",
    "\n",
    " \n",
    "# deterministic compartmental model\n",
    "@pm.deterministic\n",
    "def PK(kcat=kcat_prob, vmaxf=vmaxf_prob,tspan=tspan):\n",
    "    def pk_model(metabolite, t):\n",
    "        [GLCex,GLCin,Biomass]=metabolite\n",
    "        \n",
    "        #all constants in the model\n",
    "        km=10.2e-3\n",
    "        rho=564; #gDW/Lcell\n",
    "        #24e-6*180*3600; #mM/h\n",
    "        vmaxHKr=24e-6*1.16*3600 #mM/h\n",
    "        KmATP=1\n",
    "        KmG6P=47e-3\n",
    "        KiATP=1\n",
    "        KiGLC=47e-3\n",
    "        KiG6P=47e-3\n",
    "        KiADP=1\n",
    "        ATP=1.54 #mM\n",
    "        ADP=560e-3 #mM \n",
    "        G6P=0.801\n",
    "        \n",
    "        #Reactions in the model\n",
    "        D=1+ ATP/KiATP+ G6P/KiG6P+ GLCin/KiGLC+ ADP/KiADP+ ATP*GLCin/(KmATP*KiGLC)+ADP*G6P/(KiADP*KmG6P)\n",
    "        VHK=(vmaxf*10000*ATP*GLCin/(KmATP*KiGLC)-vmaxHKr*ADP*G6P/(KiADP*KmG6P))/D\n",
    "        VGalP=kcat*10000*GLCex/(km+GLCex)\n",
    "\n",
    "        mu=(VHK/rho-0.4531)/10.971\n",
    "        if mu<=0:\n",
    "            mu=0\n",
    "        \n",
    "        dglcex_dt=-VGalP*Biomass/rho #d(GLCex)/dt\n",
    "        dglcin_dt=VGalP-VHK-mu*GLCin #d(GLCin)/dt\n",
    "        dx_dt=mu*Biomass #d(biomass)/dt\n",
    "        dmetabolite=[dglcex_dt,dglcin_dt,dx_dt]\n",
    "        return dmetabolite\n",
    "    soln = odeint(pk_model, metabolite0, tspan)\n",
    "    GLCconc= soln[:,0]\n",
    "    return [GLCconc]\n",
    "#GLCconc = pm.Lambda('GLCconc', lambda PK=PK: PK[kcat_prob,vmaxf_prob])\n",
    "\n",
    " \n",
    "prec = pm.Gamma('precision', alpha=0.1, beta=0.1)\n",
    " \n",
    "# data likelihood\n",
    "observed_glc = pm.Normal('observed_glc', mu=PK,tau=1000,value=glc_concentration, observed=True)\n"
   ]
  },
  {
   "cell_type": "code",
   "execution_count": 2,
   "metadata": {
    "collapsed": false
   },
   "outputs": [
    {
     "name": "stdout",
     "output_type": "stream",
     "text": [
      " [-----------------100%-----------------] 10000 of 10000 complete in 289.1 sec"
     ]
    }
   ],
   "source": [
    "model = pm.Model([kcat_prob,vmaxf_prob,PK,prec,observed_glc])\n",
    " \n",
    "# fit the model with mcmc\n",
    "map_ = pm.MAP(model)\n",
    "map_.fit()\n",
    "mcmc = pm.MCMC(model)\n",
    "mcmc.sample(10000, 8000, 20)"
   ]
  },
  {
   "cell_type": "code",
   "execution_count": 3,
   "metadata": {
    "collapsed": true
   },
   "outputs": [],
   "source": [
    "kcat_samples=mcmc.trace('kcat')[:]\n",
    "vmaxf_samples=mcmc.trace('vmaxf')[:]"
   ]
  },
  {
   "cell_type": "code",
   "execution_count": 13,
   "metadata": {
    "collapsed": false
   },
   "outputs": [
    {
     "name": "stdout",
     "output_type": "stream",
     "text": [
      "mean of kcat values: 0.2241 \n",
      "\n",
      "mean of vmaxf values: 0.3555\n"
     ]
    }
   ],
   "source": [
    "print('mean of kcat values:',round(kcat_samples.mean(),4),'\\n')\n",
    "print('mean of vmaxf values:',round(vmaxf_samples.mean(),4))\n"
   ]
  },
  {
   "cell_type": "code",
   "execution_count": 5,
   "metadata": {
    "collapsed": false
   },
   "outputs": [
    {
     "data": {
      "image/png": "[encoded data removed]",
      "text/plain": [
       "<matplotlib.figure.Figure at 0x2492276cf98>"
      ]
     },
     "metadata": {},
     "output_type": "display_data"
    }
   ],
   "source": [
    "import matplotlib.pyplot as plt\n",
    "%matplotlib inline\n",
    "plt.hist(vmaxf_samples, histtype='stepfilled', bins=30, alpha=0.85,\n",
    "         label=\"posterior of $kcat$\", color=\"#7A68A6\", normed=True);"
   ]
  },
  {
   "cell_type": "code",
   "execution_count": 6,
   "metadata": {
    "collapsed": false
   },
   "outputs": [
    {
     "data": {
      "image/png": "[encoded data removed]",
      "text/plain": [
       "<matplotlib.figure.Figure at 0x2492275c908>"
      ]
     },
     "metadata": {},
     "output_type": "display_data"
    }
   ],
   "source": [
    "plt.hist(kcat_samples, histtype='stepfilled', bins=30, alpha=0.85,\n",
    "         label=\"posterior of $kcat$\", color=\"#7A68A6\", normed=True);"
   ]
  },
  {
   "cell_type": "code",
   "execution_count": null,
   "metadata": {
    "collapsed": true
   },
   "outputs": [],
   "source": []
  }
 ],
 "metadata": {
  "anaconda-cloud": {},
  "kernelspec": {
   "display_name": "Python [Root]",
   "language": "python",
   "name": "Python [Root]"
  },
  "language_info": {
   "codemirror_mode": {
    "name": "ipython",
    "version": 3
   },
   "file_extension": ".py",
   "mimetype": "text/x-python",
   "name": "python",
   "nbconvert_exporter": "python",
   "pygments_lexer": "ipython3",
   "version": "3.5.2"
  }
 },
 "nbformat": 4,
 "nbformat_minor": 0
}
