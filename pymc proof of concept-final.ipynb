{
 "cells": [
  {
   "cell_type": "markdown",
   "metadata": {},
   "source": [
    "# Using PyMC for parameter estimation \n",
    "_______________\n",
    "## Estimate parameters of ODE using Bayesian Inference on a smaller model "
   ]
  },
  {
   "cell_type": "markdown",
   "metadata": {},
   "source": [
    "### Motivation\n",
    "I wanted to test whether I could code in **PyMC** and not have to use **R** to achieve the same result; i.e do parameter estimation using *Bayesian Inference*. So I used a smaller ODE model, that I had previously worked on and knew that a solution exists, to explore **PyMC** as well as develop a strategy to implement the more complex and more time consuming *Tunable Bandpass Filter Model*."
   ]
  },
  {
   "cell_type": "markdown",
   "metadata": {},
   "source": [
    "I used the data from strain characterization experiment I had done with Christian. the general scheme is glucose uptake by *GaLP*, followed by phosphorylation by *Glk* and eventual conversion to biomass. The unknown variables in the ODE system are the  velocities of the *GalP* and *Glk* reactions which are approximated by Bayesian Inference by the following routine.\n"
   ]
  },
  {
   "cell_type": "code",
   "execution_count": 1,
   "metadata": {
    "collapsed": true
   },
   "outputs": [],
   "source": [
    "import pymc as pm\n",
    "import numpy as np\n",
    "from scipy.integrate import odeint\n",
    "import matplotlib.pyplot as plt\n",
    "%matplotlib inline"
   ]
  },
  {
   "cell_type": "code",
   "execution_count": 2,
   "metadata": {
    "collapsed": true
   },
   "outputs": [],
   "source": [
    "#importing experimental data\n",
    "timedata=np.genfromtxt(\"data/timedata.txt\", delimiter=',')\n",
    "glc_concentration=np.genfromtxt(\"data/GLCexconc.txt\", delimiter=',')"
   ]
  },
  {
   "cell_type": "markdown",
   "metadata": {},
   "source": [
    "### Defining Priors\n",
    "Properly defining priors is crucial. \n",
    "* Make sure that distribution covers the entire solution space\n",
    "* If the solution space is too big, there's a chance that the entire solution space is not scanned (This happened when I defined the solution space as `pm.Uniform(1e3, 1e4)`\n",
    "* If prior has probability zero for a point then posterior will as well\n",
    "* It could be beneficial to bias the prior at some value just to boost convergence. (If we define prior as `Normal` distribution with $ \\mu$ = expected value and a very large $\\sigma$ for certain parameters rather than `Uniform` for all"
   ]
  },
  {
   "cell_type": "code",
   "execution_count": 3,
   "metadata": {
    "collapsed": true
   },
   "outputs": [],
   "source": [
    "#defining prior distributions of our unknown variables \n",
    "kcat_prob = pm.Uniform('kcat', 0.01, 1.0)\n",
    "vmaxf_prob = pm.Uniform('vmaxf', 0.01, 1.0)"
   ]
  },
  {
   "cell_type": "markdown",
   "metadata": {
    "collapsed": true
   },
   "source": [
    "Deterministic variables are completely defined by their parents.\n",
    "If you know the values of it's parents, you can calculate its value as well. "
   ]
  },
  {
   "cell_type": "code",
   "execution_count": 4,
   "metadata": {
    "collapsed": false
   },
   "outputs": [],
   "source": [
    "# deterministic compartmental model\n",
    "\n",
    "#initial conditions for concentration profile\n",
    "tspan = timedata\n",
    "initialBiomass=0.043 #gDwt/l\n",
    "initialGLCexconc=21 #mM\n",
    "initialGLCinconc=0\n",
    "rho=564 #gdw/Lcell\n",
    "metabolite0 = [initialGLCexconc, initialGLCinconc, initialBiomass] #Initial conditions\n",
    "\n",
    " \n",
    "\n",
    "@pm.deterministic\n",
    "def glk(kcat=kcat_prob, vmaxf=vmaxf_prob,tspan=tspan):\n",
    "    def glk_model(metabolite, t):\n",
    "        [GLCex,GLCin,Biomass]=metabolite\n",
    "        \n",
    "        #all constants in the model\n",
    "        km=10.2e-3\n",
    "        rho=564; #gDW/Lcell\n",
    "        vmaxHKr=24e-6*1.16*3600 #mM/h\n",
    "        KmATP=1\n",
    "        KmG6P=47e-3\n",
    "        KiATP=1\n",
    "        KiGLC=47e-3\n",
    "        KiG6P=47e-3\n",
    "        KiADP=1\n",
    "        ATP=1.54 #mM\n",
    "        ADP=560e-3 #mM \n",
    "        G6P=0.801\n",
    "        \n",
    "        #Reactions in the model\n",
    "        #denominator of glk reaction\n",
    "        D=1+ ATP/KiATP+ G6P/KiG6P+ GLCin/KiGLC+ ADP/KiADP+ATP*GLCin/(KmATP*KiGLC)+ADP*G6P/(KiADP*KmG6P)\n",
    "        #glk reaction\n",
    "        VHK=(vmaxf*10000*ATP*GLCin/(KmATP*KiGLC)-vmaxHKr*ADP*G6P/(KiADP*KmG6P))/D \n",
    "        #GalP reaction\n",
    "        VGalP=kcat*10000*GLCex/(km+GLCex) #GalP reaction\n",
    "        #growth rate\n",
    "        mu=(VHK/rho-0.4531)/10.971  \n",
    "        if mu<=0:\n",
    "            mu=0\n",
    "        \n",
    "        #Differential equations\n",
    "        dglcex_dt=-VGalP*Biomass/rho #d(GLCex)/dt\n",
    "        dglcin_dt=VGalP-VHK-mu*GLCin #d(GLCin)/dt\n",
    "        dx_dt=mu*Biomass #d(biomass)/dt\n",
    "        dmetabolite=[dglcex_dt,dglcin_dt,dx_dt]\n",
    "        return dmetabolite\n",
    "    #ODE solver call\n",
    "    soln = odeint(glk_model, metabolite0, tspan)\n",
    "    #Solution return\n",
    "    GLCconc= soln[:,0]\n",
    "    return [GLCconc]\n"
   ]
  },
  {
   "cell_type": "markdown",
   "metadata": {},
   "source": [
    "Observed data will have the `observed=True` argument in its definition. Observed data must be able to satisfy any value defined by its parent function. \n",
    "High `tau` value indicates the confidence of observed data, $\\tau=\\frac{1}{\\sigma^2}$\n",
    "For the *Bandpass Model*, I might try a different distribution for observed data. I was thinking of maybe defining the observed data as a `binomial` distribution. Assigning the output of the Model as a *probability of growth* rather than *OD*. hence the probability near changeover points will be ~0.5 rather than strictly 0 or strictly 1.  \n"
   ]
  },
  {
   "cell_type": "code",
   "execution_count": 5,
   "metadata": {
    "collapsed": true
   },
   "outputs": [],
   "source": [
    "# data likelihood\n",
    "observed_glc = pm.Normal('observed_glc', mu=glk,tau=1000,value=glc_concentration, observed=True)"
   ]
  },
  {
   "cell_type": "markdown",
   "metadata": {},
   "source": [
    "Define the model for *Markov Chain Monte Carlo* Simulation.\n",
    "`pm.MAP` function computes the *Maximum a posteriori* estimates\n",
    "The model is then sampled to finf posterior distribution. Here we need to define the algorithm for MCMC (Metropolis, Hamiltonian etc.). I've stuck to default for now, but might need improvement if the problem is too complex to solve.\n",
    "`burn` rejects the initial samples as they are biased to the initial position\n",
    "`thin` defines the interval between samples recorded to remove the effects of auto-correlation\n",
    "Hackett et al. used the `burn=8000` and `thin=300` taking 200 samples for 10 different starting positions\n",
    "I havent figured out how to do multi-start. This workload could be parallelized to reduce computtional time. (have to figure this out as well)"
   ]
  },
  {
   "cell_type": "code",
   "execution_count": 6,
   "metadata": {
    "collapsed": false
   },
   "outputs": [
    {
     "name": "stdout",
     "output_type": "stream",
     "text": [
      " [-----------------100%-----------------] 5000 of 5000 complete in 118.3 sec"
     ]
    }
   ],
   "source": [
    "model = pm.Model([kcat_prob,vmaxf_prob,glk,observed_glc])\n",
    " \n",
    "# fit the model with mcmc\n",
    "map_ = pm.MAP(model)\n",
    "map_.fit()\n",
    "mcmc = pm.MCMC(model)\n",
    "mcmc.sample(5000, burn=400, thin=10)"
   ]
  },
  {
   "cell_type": "code",
   "execution_count": 7,
   "metadata": {
    "collapsed": true
   },
   "outputs": [],
   "source": [
    "#MCMC samples turned to arrays\n",
    "kcat_samples=mcmc.trace('kcat')[:]\n",
    "vmaxf_samples=mcmc.trace('vmaxf')[:]"
   ]
  },
  {
   "cell_type": "code",
   "execution_count": 8,
   "metadata": {
    "collapsed": false
   },
   "outputs": [
    {
     "name": "stdout",
     "output_type": "stream",
     "text": [
      "mean of kcat values: 0.2247 \n",
      "\n",
      "mean of vmaxf values: 0.355\n"
     ]
    }
   ],
   "source": [
    "#means will be the estimated values of the variables\n",
    "print('mean of kcat values:',round(kcat_samples.mean(),4),'\\n')\n",
    "print('mean of vmaxf values:',round(vmaxf_samples.mean(),4))"
   ]
  },
  {
   "cell_type": "code",
   "execution_count": 13,
   "metadata": {
    "collapsed": false
   },
   "outputs": [
    {
     "data": {
      "text/plain": [
       "<matplotlib.text.Text at 0x1f290698c18>"
      ]
     },
     "execution_count": 13,
     "metadata": {},
     "output_type": "execute_result"
    },
    {
     "data": {
      "image/png": "[encoded data removed]",
      "text/plain": [
       "<matplotlib.figure.Figure at 0x1f29075cbe0>"
      ]
     },
     "metadata": {},
     "output_type": "display_data"
    }
   ],
   "source": [
    "#Histogram of variable 1:kcat\n",
    "plt.hist(kcat_samples, histtype='stepfilled', bins=30, alpha=0.85,\n",
    "         label=\"posterior of $kcat$\", color=\"#7A68A6\", normed=True);\n",
    "plt.vlines(np.median(kcat_samples), 0, 8000, linestyle=\"--\", label=\"mean kcat\")\n",
    "plt.legend(loc=\"upper right\")\n",
    "plt.title(\"Posterior distribution of kcat\")"
   ]
  },
  {
   "cell_type": "code",
   "execution_count": 16,
   "metadata": {
    "collapsed": false
   },
   "outputs": [
    {
     "data": {
      "text/plain": [
       "<matplotlib.text.Text at 0x1f291951630>"
      ]
     },
     "execution_count": 16,
     "metadata": {},
     "output_type": "execute_result"
    },
    {
     "data": {
      "image/png": "[encoded data removed]",
      "text/plain": [
       "<matplotlib.figure.Figure at 0x1f2918ad320>"
      ]
     },
     "metadata": {},
     "output_type": "display_data"
    }
   ],
   "source": [
    "#histogram of Variable 2:vmaxf\n",
    "plt.hist(vmaxf_samples, histtype='stepfilled', bins=30, alpha=0.85,\n",
    "         label=\"posterior of $vmaxf$\", color=\"#7A68A6\", normed=True);\n",
    "plt.vlines(np.median(vmaxf_samples), 0, 10000, linestyle=\"--\", label=\"mean vmaxf\")\n",
    "plt.legend(loc=\"upper left\")\n",
    "plt.title(\"Posterior distribution of vmaxf\")"
   ]
  },
  {
   "cell_type": "code",
   "execution_count": null,
   "metadata": {
    "collapsed": true
   },
   "outputs": [],
   "source": []
  },
  {
   "cell_type": "code",
   "execution_count": 11,
   "metadata": {
    "collapsed": false
   },
   "outputs": [
    {
     "name": "stderr",
     "output_type": "stream",
     "text": [
      "C:\\Users\\kadam\\Anaconda3\\lib\\site-packages\\matplotlib\\__init__.py:872: UserWarning: axes.color_cycle is deprecated and replaced with axes.prop_cycle; please use the latter.\n",
      "  warnings.warn(self.msg_depr % (key, alt_key))\n"
     ]
    }
   ],
   "source": [
    "import json, matplotlib\n",
    "s = json.load( open(\"styles/bmh_matplotlibrc.json\") )\n",
    "matplotlib.rcParams.update(s)"
   ]
  },
  {
   "cell_type": "code",
   "execution_count": null,
   "metadata": {
    "collapsed": true
   },
   "outputs": [],
   "source": []
  }
 ],
 "metadata": {
  "anaconda-cloud": {},
  "kernelspec": {
   "display_name": "Python [Root]",
   "language": "python",
   "name": "Python [Root]"
  },
  "language_info": {
   "codemirror_mode": {
    "name": "ipython",
    "version": 3
   },
   "file_extension": ".py",
   "mimetype": "text/x-python",
   "name": "python",
   "nbconvert_exporter": "python",
   "pygments_lexer": "ipython3",
   "version": "3.5.2"
  }
 },
 "nbformat": 4,
 "nbformat_minor": 0
}
