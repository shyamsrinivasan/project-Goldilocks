{
 "cells": [
  {
   "cell_type": "markdown",
   "metadata": {
    "nbpresent": {
     "id": "a62fa792-f5e1-499e-a289-1af5427f6670"
    }
   },
   "source": [
    "# TOGGLE SWITCH MODEL <p><left>by **Kaustubh Kadam**</left></p>"
   ]
  },
  {
   "cell_type": "code",
   "execution_count": 1,
   "metadata": {
    "nbpresent": {
     "id": "6c7fc354-15ef-476d-a8d6-90833b8915af"
    }
   },
   "outputs": [],
   "source": [
    "import numpy as np\n",
    "from scipy import *\n",
    "from scipy.integrate import ode\n",
    "from pylab import *\n",
    "import matplotlib.pyplot as plt\n",
    "%matplotlib inline\n",
    "from scipy.optimize import least_squares"
   ]
  },
  {
   "cell_type": "code",
   "execution_count": 2,
   "metadata": {
    "nbpresent": {
     "id": "505d171d-a8c5-412c-92db-bc1a87c72287"
    }
   },
   "outputs": [],
   "source": [
    "def diff_eq(t,metabolite,parameters):\n",
    "    Km=1 #michelis menton constant for PPV formation\n",
    "    kdegpcb=parameters[3]      #degradation rate of PCB\n",
    "    kdegppv=parameters[4]      #degradation rate of PPV\n",
    "    kdegrna=parameters[5]      #degradation rate of RNA\n",
    "    kformppv=2.8E-2*3600       #rate constant for PPV formation\n",
    "    ktc=parameters[6]          #transcription rate of RNA\n",
    "    Kmrna=parameters[7]        #michelis menton constant for RNA formation\n",
    "    kbasal=parameters[8]       #basal leaky RNA expression\n",
    "    kout=parameters[9]        #protein diffusion into media\n",
    "    ktlppre=parameters[10]     #ppre translation\n",
    "    ktlmcherry=parameters[11]  #mcherry translation rate\n",
    "    kdegmcherry=parameters[12] #mcherry degradation rate\n",
    "    trigger=parameters[1]      #light switch\n",
    "    killswitch=parameters[2]   #tetracycline addition time\n",
    "    if t>trigger and (t<killswitch or killswitch<0): #light trigger response\n",
    "        klight=1\n",
    "    else:\n",
    "        klight=0\n",
    "                \n",
    "    phyb0=parameters[0] #total phyb present\n",
    "    dmetabolite=np.zeros([5]) #generating derivative array\n",
    "    [pcb,ppv,rna,ppre,mcherry]=metabolite #metabolite assignment\n",
    "    dmetabolite[0]=-kformppv*(phyb0-ppv)*pcb/(Km+pcb)-kdegpcb*pcb #dpcb/dt\n",
    "    dmetabolite[1]=kformppv*(phyb0-ppv)*pcb/(Km+pcb)-kdegppv*ppv #dppv/dt\n",
    "    dmetabolite[2]=ktc*ppv/(Kmrna+ppv)*klight+kbasal-kdegrna*rna #drna/dt\n",
    "    dmetabolite[3]=ktlppre*rna-kout*ppre  #dppre/dt\n",
    "    dmetabolite[4]=ktlmcherry*ppre-kdegmcherry*mcherry #dmcherry/dt\n",
    "    \n",
    "    return dmetabolite\n",
    "    "
   ]
  },
  {
   "cell_type": "code",
   "execution_count": 3,
   "metadata": {
    "nbpresent": {
     "id": "6fd5e6f9-df1b-4e37-8eed-1e437a3fca8d"
    }
   },
   "outputs": [
    {
     "name": "stdout",
     "output_type": "stream",
     "text": [
      "`ftol` termination condition is satisfied.\n",
      "Function evaluations: 297, initial cost: 2.4112e+03, final cost 1.9369e+01, first-order optimality 3.99e+03.\n",
      "[  3.82335311e+01   3.53266222e+00   9.52999988e+00   1.00327889e+03\n",
      "   1.02979111e-01   4.49612246e+01   9.54586641e+00   1.42122812e+01\n",
      "   1.34168325e+01   9.57151843e+00]\n"
     ]
    }
   ],
   "source": [
    "\n",
    "def model(optim_params):\n",
    "    phyb0=10**(-1.545) #PhyB total concentration\n",
    "    [kdegpcb,kdegppv,kdegrna,ktc,Kmrna,\n",
    "     kbasal,kout,ktlppre,ktlmcherry,kdegmcherry]=optim_params #difining mcherry constants\n",
    "    pcb0=15    #PCB initial concentration\n",
    "    ppv0=0     #PPV initial concentration\n",
    "    rna0=0     #RNA initial concentration\n",
    "    ppre0=0    #PPre initial concentration\n",
    "    mcherry0=0 #mCherry initial concentration\n",
    "    t0 = 0; tEnd = 22.0; dt = 0.01 #time and time step\n",
    "    trigger=0 #start light induction ON kinetics begin\n",
    "    killswitch=trigger+90/60 #tetracycline addition OFF kinetics begin\n",
    "    metabolite0 = [pcb0,ppv0,rna0,ppre0,mcherry0] #Initial conditions\n",
    "    Y=[]; T=[]  #create empty lists\n",
    "    parameters=[phyb0,trigger,killswitch,kdegpcb,kdegppv,kdegrna,\n",
    "                ktc,Kmrna,kbasal,kout,ktlppre,ktlmcherry,kdegmcherry]  #parameters for odes\n",
    "\n",
    "    eq = ode(diff_eq).set_integrator('dopri5') #ode with runge kutta solver \n",
    "    eq.set_f_params(parameters).set_initial_value(metabolite0,t0) #initialvalues and parameters\n",
    "    while eq.successful() and eq.t+dt < tEnd:\n",
    "        eq.integrate(eq.t+dt)\n",
    "        Y.append(eq.y)        #makes a list of 1d arrays\n",
    "        T.append(eq.t)       #makes a list of time increments\n",
    "\n",
    "    Y = array(Y)        #convert from list to 2d array\n",
    "    T = array(T)        #convert from list to 2d array\n",
    "    T = around(T,2)     #round 2 decimal numbers\n",
    "    return Y,T\n",
    "def optim(optim_params,obs_time,obs_fl): \n",
    "    #optim_params= parameters to be optimized\n",
    "    #obs_time= timestamp of experimental observation\n",
    "    #obs_fl=experimental flurescence\n",
    "    [Y,T]=model(optim_params) #import model output\n",
    "    #separate model output into individual metabolite concentration\n",
    "    PCB=Y[:,0] #PCB\n",
    "    PPV=Y[:,1] #PPV\n",
    "    RNA=Y[:,2] #RNA\n",
    "    PPRE=Y[:,3] #PPRE\n",
    "    MCHERRY=Y[:,4] #Mcherry\n",
    "    model_fl=[] #create null list to populate model fluorescence corresponding to observed time\n",
    "    for i in range (0,len(obs_time)): \n",
    "        for j in range (0,len(T)):\n",
    "            if obs_time[i]==T[j]:\n",
    "                model_fl.append(MCHERRY[j]) #append model fluorescence at observed time to list \n",
    "    model_fl=array(model_fl) #convert list to array\n",
    "    #print(len(model_fl),len(obs_fl))\n",
    "    return model_fl-obs_fl #return the error in model prediction which forms the objective of our optimization function\n",
    "\n",
    "trigger=0 #start light induction ON kinetics begin\n",
    "killswitch=trigger+90/60 #tetracycline addition OFF kinetics begin\n",
    "obs_time=np.array([3,10,20,30,40,50,60,70,80,90,1200]) #time of experimental observation in minutes\n",
    "obs_time=obs_time/60\n",
    "obs_time=trigger+around(obs_time,2) #shift data to account for difference between PCB addition and light induction\n",
    "obs_fl=np.array([0,0.069249499,0.332629626,0.355316444,0.282949526,0.247138294,\n",
    "                0.197883962,0.159583336,0.13478094,0.105941567,0.094092046]) #experimental flurescence\n",
    "obs_fl=obs_fl*100\n",
    "kdegpcb0=10**(-0.158) #initial degradation rate of PCB\n",
    "kdegppv0=10**(-0.756) #initial degradation rate of PPV\n",
    "kdegrna0=10**(-0.551) #initial degradation rate of RNA\n",
    "ktc0=10**(3) #initial transcription rate of RNA\n",
    "Kmrna0=10**(-0.196) #initial michelis menton constant for RNA formation\n",
    "kbasal0=10**(-0.625) #initial basal leaky RNA expression\n",
    "kout0=10**(-0.869) #initial protein diffusion into media\n",
    "ktlppre0=10**(0.866) #initial ppre translation\n",
    "ktlmcherry0=10**(-1.958) #initial guess for mcherry translation rate\n",
    "kdegmcherry0=10**(1.035) #initial guess for mcherry degradation rate\n",
    "\n",
    "init_guess=[kdegpcb0,kdegppv0,kdegrna0,ktc0,Kmrna0,kbasal0,\n",
    "            kout0,ktlppre0,ktlmcherry0,kdegmcherry0] #list of initial iteration\n",
    "res_mcherry = least_squares(optim, init_guess, bounds=(0, 10000), \n",
    "                            args=(obs_time, obs_fl), verbose=1,xtol=1e-5,ftol=1e-5) #least square optimization function\n",
    "mcherryparams=res_mcherry.x #optimized parameters, output of least square optimization\n",
    "print(mcherryparams)"
   ]
  },
  {
   "cell_type": "code",
   "execution_count": 4,
   "metadata": {
    "nbpresent": {
     "id": "94bc5c26-cace-4816-ad41-5d4b1aca6303"
    }
   },
   "outputs": [
    {
     "data": {
      "text/plain": [
       "<matplotlib.text.Text at 0x2782dfdf898>"
      ]
     },
     "execution_count": 4,
     "metadata": {},
     "output_type": "execute_result"
    },
    {
     "data": {
      "image/png": "[encoded data removed]",
      "text/plain": [
       "<matplotlib.figure.Figure at 0x2782db99ba8>"
      ]
     },
     "metadata": {},
     "output_type": "display_data"
    }
   ],
   "source": [
    "import numpy as np\n",
    "import matplotlib.pyplot as plt\n",
    "\n",
    "[Y,T]=model(mcherryparams)\n",
    "PCB=Y[:,0]\n",
    "PPV=Y[:,1]\n",
    "RNA=Y[:,2]\n",
    "PPRE=Y[:,3]\n",
    "MCHERRY=Y[:,4]\n",
    "fig = plt.figure(figsize=(16, 16), dpi=260)\n",
    "\n",
    "ax1 = fig.add_subplot(221)\n",
    "ax1.plot(T, PCB, \"-\")\n",
    "ax1.set_xlabel('Time')\n",
    "ax1.set_ylabel('PCB')\n",
    "\n",
    "ax2 = fig.add_subplot(222)\n",
    "ax2.plot(T, PPV, \"-\")\n",
    "ax2.set_xlabel('Time')\n",
    "ax2.set_ylabel('PPV')\n",
    "\n",
    "ax3 = fig.add_subplot(223)\n",
    "ax3.plot(T, RNA, \"-\")\n",
    "ax3.set_xlabel('Time')\n",
    "ax3.set_ylabel('RNA')\n",
    "\n",
    "ax4 = fig.add_subplot(224)\n",
    "ax4.plot(T, MCHERRY, \"-\")\n",
    "ax4.plot(obs_time,obs_fl,\"o\")\n",
    "ax4.set_xlabel('Time')\n",
    "ax4.set_ylabel('mCherry')"
   ]
  },
  {
   "cell_type": "code",
   "execution_count": 8,
   "metadata": {},
   "outputs": [
    {
     "data": {
      "image/png": "[encoded data removed]",
      "text/plain": [
       "<matplotlib.figure.Figure at 0x2783065b048>"
      ]
     },
     "metadata": {},
     "output_type": "display_data"
    }
   ],
   "source": [
    "import matplotlib.pylab as plt\n",
    "import numpy as np\n",
    "import matplotlib.gridspec as gridspec\n",
    "\n",
    "x1 = obs_time\n",
    "x2 = T\n",
    "\n",
    "y1 = obs_fl\n",
    "y2 = MCHERRY\n",
    "yerr=np.array([0.046390004,0.059510881,0.062075465,0.063790102,0.058309439,\n",
    "               0.05556501,0.055682084,0.051948624,0.051784315,0.047136253,0.029999472])\n",
    "yerr=yerr*100\n",
    "n = 5; m = 1;\n",
    "gs = gridspec.GridSpec(1,2, width_ratios = [n,m])\n",
    "\n",
    "plt.figure(figsize=(16,8))\n",
    "\n",
    "ax = plt.subplot(gs[0,0])\n",
    "ax2 = plt.subplot(gs[0,1], sharey = ax)\n",
    "plt.setp(ax2.get_yticklabels(), visible=False)\n",
    "plt.subplots_adjust(wspace = 0.1)\n",
    "\n",
    "ax.plot(x1, y1,\"o\",label='Observed Fluorescence', color='blue')\n",
    "ax.plot(x2, y2,label='Model Fluorescence', color='green')\n",
    "ax.errorbar(x1, y1, yerr=yerr,color='blue', fmt='o')\n",
    "ax2.plot(x1, y1,'o',label='Observed Fluorescence', color='blue')\n",
    "ax2.plot(x2, y2,label='Model Fluorescence', color='green')\n",
    "ax2.errorbar(x1, y1, yerr=yerr,color='blue', fmt='o')\n",
    "ax.set_ylim(0,45)\n",
    "ax.set_xlim(0,trigger+2)\n",
    "ax2.set_xlim(trigger+19,trigger+21)\n",
    "legend = ax2.legend(loc='upper right',fontsize=20)\n",
    "# hide the spines between ax and ax2\n",
    "ax.spines['right'].set_visible(False)\n",
    "ax2.spines['left'].set_visible(False)\n",
    "ax.yaxis.tick_left()\n",
    "ax.tick_params(labelright='off')\n",
    "ax.xaxis.label.set_fontsize(20)\n",
    "ax.yaxis.label.set_fontsize(20)\n",
    "ax.set_xlabel('Time (Hrs)')\n",
    "ax.set_ylabel('Normalized mCherry Fluorescence')\n",
    "\n",
    "ax2.yaxis.tick_right()\n",
    "ax2.tick_params(labelright='off')\n",
    "ax2.set_xticks([trigger+19,trigger+20,trigger+21])\n",
    "\n",
    "d = .015 # how big to make the diagonal lines in axes coordinates\n",
    "# arguments to pass plot, just so we don't keep repeating them\n",
    "kwargs = dict(transform=ax.transAxes, color='k', clip_on=False)\n",
    "\n",
    "on = (n+m)/n; om = (n+m)/m;\n",
    "ax.plot((1-d*on,1+d*on),(-d,d), **kwargs) # bottom-left diagonal\n",
    "ax.plot((1-d*on,1+d*on),(1-d,1+d), **kwargs) # top-left diagonal\n",
    "kwargs.update(transform=ax2.transAxes) # switch to the bottom axes\n",
    "ax2.plot((-d*om,d*om),(-d,d), **kwargs) # bottom-right diagonal\n",
    "ax2.plot((-d*om,d*om),(1-d,1+d), **kwargs) # top-right diagonal\n",
    "savefig('plot_trial2.png')\n",
    "plt.show()"
   ]
  },
  {
   "cell_type": "code",
   "execution_count": 6,
   "metadata": {},
   "outputs": [
    {
     "data": {
      "text/html": [
       "<div>\n",
       "<table border=\"1\" class=\"dataframe\">\n",
       "  <thead>\n",
       "    <tr style=\"text-align: right;\">\n",
       "      <th></th>\n",
       "      <th></th>\n",
       "      <th>Initial Guess</th>\n",
       "      <th>Optimized values</th>\n",
       "    </tr>\n",
       "  </thead>\n",
       "  <tbody>\n",
       "    <tr>\n",
       "      <th>0</th>\n",
       "      <td>kdegpcb</td>\n",
       "      <td>0.695024</td>\n",
       "      <td>38.233531</td>\n",
       "    </tr>\n",
       "    <tr>\n",
       "      <th>1</th>\n",
       "      <td>kdegppv</td>\n",
       "      <td>0.175388</td>\n",
       "      <td>3.532662</td>\n",
       "    </tr>\n",
       "    <tr>\n",
       "      <th>2</th>\n",
       "      <td>kdegrna</td>\n",
       "      <td>0.281190</td>\n",
       "      <td>9.530000</td>\n",
       "    </tr>\n",
       "    <tr>\n",
       "      <th>3</th>\n",
       "      <td>kformppv</td>\n",
       "      <td>100.800000</td>\n",
       "      <td>100.800000</td>\n",
       "    </tr>\n",
       "    <tr>\n",
       "      <th>4</th>\n",
       "      <td>ktc</td>\n",
       "      <td>1000.000000</td>\n",
       "      <td>1003.278890</td>\n",
       "    </tr>\n",
       "    <tr>\n",
       "      <th>5</th>\n",
       "      <td>Kmrna</td>\n",
       "      <td>0.636796</td>\n",
       "      <td>0.102979</td>\n",
       "    </tr>\n",
       "    <tr>\n",
       "      <th>6</th>\n",
       "      <td>kbasal</td>\n",
       "      <td>0.237137</td>\n",
       "      <td>44.961225</td>\n",
       "    </tr>\n",
       "    <tr>\n",
       "      <th>7</th>\n",
       "      <td>kout</td>\n",
       "      <td>0.135207</td>\n",
       "      <td>9.545866</td>\n",
       "    </tr>\n",
       "    <tr>\n",
       "      <th>8</th>\n",
       "      <td>ktlppre</td>\n",
       "      <td>7.345139</td>\n",
       "      <td>14.212281</td>\n",
       "    </tr>\n",
       "    <tr>\n",
       "      <th>9</th>\n",
       "      <td>ktlmcherry</td>\n",
       "      <td>0.011015</td>\n",
       "      <td>13.416832</td>\n",
       "    </tr>\n",
       "    <tr>\n",
       "      <th>10</th>\n",
       "      <td>kdegmcherry</td>\n",
       "      <td>10.839269</td>\n",
       "      <td>9.571518</td>\n",
       "    </tr>\n",
       "  </tbody>\n",
       "</table>\n",
       "</div>"
      ],
      "text/plain": [
       "                 Initial Guess  Optimized values\n",
       "0       kdegpcb       0.695024         38.233531\n",
       "1       kdegppv       0.175388          3.532662\n",
       "2       kdegrna       0.281190          9.530000\n",
       "3      kformppv     100.800000        100.800000\n",
       "4           ktc    1000.000000       1003.278890\n",
       "5         Kmrna       0.636796          0.102979\n",
       "6        kbasal       0.237137         44.961225\n",
       "7          kout       0.135207          9.545866\n",
       "8       ktlppre       7.345139         14.212281\n",
       "9    ktlmcherry       0.011015         13.416832\n",
       "10  kdegmcherry      10.839269          9.571518"
      ]
     },
     "execution_count": 6,
     "metadata": {},
     "output_type": "execute_result"
    }
   ],
   "source": [
    "import pandas as pd\n",
    "constant_labels=['kdegpcb','kdegppv','kdegrna','kformppv','ktc','Kmrna','kbasal',\n",
    "            'kout','ktlppre','ktlmcherry','kdegmcherry']\n",
    "init_guess_list=list(init_guess)\n",
    "init_guess_list.insert(3,2.8E-2*3600)\n",
    "mcherryparams_list=list(mcherryparams)\n",
    "mcherryparams_list.insert(3,2.8E-2*3600)\n",
    "rate_constants=list(zip(constant_labels,init_guess_list,mcherryparams_list))\n",
    "\n",
    "df = pd.DataFrame(data = rate_constants, columns=['','Initial Guess', 'Optimized values'])\n",
    "df.to_excel('Trial 2 rateconstants.xlsx')\n",
    "df"
   ]
  },
  {
   "cell_type": "code",
   "execution_count": null,
   "metadata": {
    "collapsed": true
   },
   "outputs": [],
   "source": []
  }
 ],
 "metadata": {
  "anaconda-cloud": {},
  "celltoolbar": "Raw Cell Format",
  "kernelspec": {
   "display_name": "Python 3",
   "language": "python",
   "name": "python3"
  },
  "language_info": {
   "codemirror_mode": {
    "name": "ipython",
    "version": 3
   },
   "file_extension": ".py",
   "mimetype": "text/x-python",
   "name": "python",
   "nbconvert_exporter": "python",
   "pygments_lexer": "ipython3",
   "version": "3.6.1"
  },
  "nbpresent": {
   "slides": {
    "1aa58d09-0473-4699-abaa-d3c5e6c400f1": {
     "id": "1aa58d09-0473-4699-abaa-d3c5e6c400f1",
     "prev": null,
     "regions": {}
    },
    "2b57b342-5f6d-4a8b-b76b-713c372f7631": {
     "id": "2b57b342-5f6d-4a8b-b76b-713c372f7631",
     "prev": "e7462cf2-95f0-461d-b722-f916962afeea",
     "regions": {
      "b972c1dc-b2fb-4015-83fa-f2b48bb64722": {
       "attrs": {
        "height": 0.8,
        "width": 0.8,
        "x": 0.1,
        "y": 0.1
       },
       "content": {
        "cell": "ced0a962-055d-4685-897c-5d19d85afeba",
        "part": "whole"
       },
       "id": "b972c1dc-b2fb-4015-83fa-f2b48bb64722"
      }
     }
    },
    "8e46b37e-8f52-4db1-8efd-ccb3ec3689f1": {
     "id": "8e46b37e-8f52-4db1-8efd-ccb3ec3689f1",
     "prev": "d30655c8-e02b-4246-9665-a30984942a94",
     "regions": {
      "0d3c3330-7eae-4778-b491-77c2411f241c": {
       "attrs": {
        "height": 0.8,
        "width": 0.8,
        "x": 0.1,
        "y": 0.1
       },
       "content": {
        "cell": "6fd5e6f9-df1b-4e37-8eed-1e437a3fca8d",
        "part": "whole"
       },
       "id": "0d3c3330-7eae-4778-b491-77c2411f241c"
      }
     }
    },
    "d30655c8-e02b-4246-9665-a30984942a94": {
     "id": "d30655c8-e02b-4246-9665-a30984942a94",
     "prev": "e1873333-33b5-481c-910f-82718cb0ea35",
     "regions": {
      "428e570f-900c-41e8-9c39-57b9ac48541a": {
       "attrs": {
        "height": 0.8,
        "width": 0.8,
        "x": 0.1,
        "y": 0.1
       },
       "content": {
        "cell": "505d171d-a8c5-412c-92db-bc1a87c72287",
        "part": "whole"
       },
       "id": "428e570f-900c-41e8-9c39-57b9ac48541a"
      }
     }
    },
    "e1873333-33b5-481c-910f-82718cb0ea35": {
     "id": "e1873333-33b5-481c-910f-82718cb0ea35",
     "prev": "1aa58d09-0473-4699-abaa-d3c5e6c400f1",
     "regions": {
      "76f02fc4-1064-40f4-84c9-782a77c50f4c": {
       "attrs": {
        "height": 0.8,
        "width": 0.8,
        "x": 0.1,
        "y": 0.1
       },
       "content": {
        "cell": "6c7fc354-15ef-476d-a8d6-90833b8915af",
        "part": "whole"
       },
       "id": "76f02fc4-1064-40f4-84c9-782a77c50f4c"
      }
     }
    },
    "e7462cf2-95f0-461d-b722-f916962afeea": {
     "id": "e7462cf2-95f0-461d-b722-f916962afeea",
     "prev": "8e46b37e-8f52-4db1-8efd-ccb3ec3689f1",
     "regions": {
      "95c8fabc-06c8-486d-b87f-fbf9645cdea9": {
       "attrs": {
        "height": 0.8,
        "width": 0.8,
        "x": 0.1,
        "y": 0.1
       },
       "content": {
        "cell": "94bc5c26-cace-4816-ad41-5d4b1aca6303",
        "part": "whole"
       },
       "id": "95c8fabc-06c8-486d-b87f-fbf9645cdea9"
      }
     }
    },
    "f2b731aa-25b3-4fb8-b273-4956e386e13c": {
     "id": "f2b731aa-25b3-4fb8-b273-4956e386e13c",
     "prev": "2b57b342-5f6d-4a8b-b76b-713c372f7631",
     "regions": {
      "93e4bb64-7c60-4a89-b124-0e320c63cdf2": {
       "attrs": {
        "height": 0.8,
        "width": 0.8,
        "x": 0.1,
        "y": 0.1
       },
       "content": {
        "cell": "f00ba54d-30e3-4eb5-b788-5e15b71b88c3",
        "part": "whole"
       },
       "id": "93e4bb64-7c60-4a89-b124-0e320c63cdf2"
      }
     }
    }
   },
   "themes": {}
  }
 },
 "nbformat": 4,
 "nbformat_minor": 1
}
