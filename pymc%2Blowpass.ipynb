{
 "cells": [
  {
   "cell_type": "markdown",
   "metadata": {},
   "source": [
    "<h1><center>Bandpass Filter Parameter Estimation using PyMC</center></h1>\n",
    "<h2><center>Solving the Model System in parts</center></h2>\n",
    "The approach to solving the bandpass parameter estimation problem is to break it down into two parts, essentially simulating its response as a *lowpass filter* followed by a *highpass filter*. Since the last update, I've also simplified the model further keeping only the essential differential equations. Intracellular concentrations of metabolites not directly affected by the bandpass filter like $ [LacI]$ and $[AmpR]$ are considered to be constant. I've also not taken into consideration *Hitchhicker protein's* mechanism with the assumption that it will only modulate some of the constants optimized and not have an effect on the structure of the ODEs.\n",
    "\n",
    "The model equations are as follows:\n",
    "\n",
    "$\\frac{d[BLA]}{dt}= \\frac{\\beta_{BLA}}{1+\\Big(\\frac{[LacI]_{T}\\Big/K_{LacI}}{ 1+\\big( \n",
    "[IPTG]\\big/K_{IPTG}\\big) ^{\\eta_{IPTG}} }\\Big) ^{\\eta_{LacI}}}- \\gamma _{BLA}[BLA]$ \n",
    "\n",
    "$\\frac{d[Amp]}{dt}= k_{t,Amp}([Amp]_{ext}-[Amp] ) -\\frac{k_{cat,BLA}[BLA][Amp]}{K_{m,BLA}+[Amp] }$ \n",
    "\n",
    "[//]:($\\frac{d[aMPp]}{dt}= k_{Amp}\\lbrack Amp\\rbrack - \\gamma _{aMPp}\\lbrack \n",
    "aMPp\\rbrack $)\n",
    "\n",
    "$\\frac{d[TetC]}{dt}= \\frac{\\beta _{TetC}}\n",
    "{1+ \\Big( \\frac{[AmpR]\\Big/K_{AmpR}}{1+\\big([Amp]\\big/K_{Amp}\\big) ^{\\eta {Amp}} }\\big) ^{\\eta _{AmpR}}}- \\gamma _{TetC}[TetC]$\n",
    "\n",
    "$\\frac{d[Tet]}{dt}= k_{t,Tet}([Tet]_{ext}-[Tet]) - k_{TetC}[TetC][Tet]$"
   ]
  },
  {
   "cell_type": "code",
   "execution_count": 1,
   "metadata": {},
   "outputs": [],
   "source": [
    "import pymc as pm\n",
    "import numpy as np\n",
    "from scipy.integrate import odeint\n",
    "import matplotlib.pyplot as plt\n",
    "%matplotlib inline\n"
   ]
  },
  {
   "cell_type": "code",
   "execution_count": 2,
   "metadata": {},
   "outputs": [],
   "source": [
    "exp=np.genfromtxt(\"expdata.txt\", delimiter='\\t')\n",
    "amp0=np.genfromtxt(\"amp0.txt\", delimiter='\\t')\n",
    "iptg=exp[:,0]\n",
    "tet0=exp[:,1]\n",
    "MIC_exp=exp[:,2]\n",
    "IND_exp=exp[:,3]\n",
    "amp0=np.sort(amp0)"
   ]
  },
  {
   "cell_type": "code",
   "execution_count": 3,
   "metadata": {},
   "outputs": [],
   "source": [
    "#defining prior distributions of our unknown variables \n",
    "constants_prob = pm.Uniform('constants_prob', 0.01, 1.0,size=8)\n",
    "\n",
    "\n",
    "@pm.deterministic\n",
    "def lowpass(constants_prob=constants_prob,iptg=iptg, amp0=amp0):\n",
    "    bg_bla=constants_prob[0]*5000     #20/0.1 #uM/min combo of beta and gamma\n",
    "    laci=constants_prob[1]*50         #0.01 #uM combo of laci/kd_laci\n",
    "    #kd_laci=constants_prob[2]*5e-3    #7.8e-4 #uM\n",
    "    n_laci=constants_prob[2]*5        #2.5\n",
    "    kd_iptg=constants_prob[3]*50      #25 #uM\n",
    "    n_iptg=constants_prob[4]*5        #2\n",
    "    #kcat=constants_prob[6]*5e6        #2.82e5 #1/m\n",
    "    km=constants_prob[5]*500          #100 #uM\n",
    "    ktr=constants_prob[6]*1e-2         #1e3 Combo of ktr and kcat\n",
    "    MIC_int=constants_prob[7]*5       #amp[0,5]\n",
    "    \n",
    "    \n",
    "    bla=np.zeros(len(iptg))\n",
    "    for i in range(len(iptg)):\n",
    "        D_iptg=1+(iptg[i]/kd_iptg)**n_iptg\n",
    "        D_laci=1+(laci/(D_iptg))**n_laci\n",
    "        bla[i]=bg_bla/D_laci\n",
    "\n",
    "    #amp0=[2**i for i in range(12) ]\n",
    "    amp=np.zeros((len(bla),len(amp0)))\n",
    "    for i in range(len(bla)):\n",
    "        for j in range(len(amp0)):\n",
    "            coeff=[-ktr,(ktr*amp0[j]-ktr*km-bla[i]),ktr*amp0[j]*km]\n",
    "            sol=np.roots(coeff)\n",
    "            if sol[0]>=0 and sol[0]<amp0[j]:\n",
    "                amp[i,j]=sol[0]\n",
    "            else:\n",
    "                amp[i,j]=sol[1]\n",
    "\n",
    "    #amp=amp*349.41/1000 #convert to ug/ml\n",
    "\n",
    "    MIC_mod=np.zeros(len(iptg))\n",
    "    for i in range(len(iptg)):\n",
    "        for j in range(len(amp0)):\n",
    "            if amp[i,j]>=MIC_int:\n",
    "                break\n",
    "            MIC_mod[i]=amp0[j]\n",
    "    return MIC_mod"
   ]
  },
  {
   "cell_type": "code",
   "execution_count": 4,
   "metadata": {},
   "outputs": [],
   "source": [
    "observed_MIC = pm.Normal('observed_MIC', mu=lowpass,tau=1000,value=MIC_exp, observed=True)"
   ]
  },
  {
   "cell_type": "code",
   "execution_count": 5,
   "metadata": {},
   "outputs": [
    {
     "name": "stderr",
     "output_type": "stream",
     "text": [
      "C:\\Anaconda\\lib\\site-packages\\ipykernel_launcher.py:22: RuntimeWarning: invalid value encountered in double_scalars\n",
      "C:\\Anaconda\\lib\\site-packages\\ipykernel_launcher.py:21: RuntimeWarning: invalid value encountered in double_scalars\n",
      "C:\\Anaconda\\lib\\site-packages\\ipykernel_launcher.py:34: ComplexWarning: Casting complex values to real discards the imaginary part\n",
      "C:\\Anaconda\\lib\\site-packages\\ipykernel_launcher.py:32: ComplexWarning: Casting complex values to real discards the imaginary part\n"
     ]
    },
    {
     "name": "stdout",
     "output_type": "stream",
     "text": [
      " [-----------------100%-----------------] 20000 of 20000 complete in 126.4 sec"
     ]
    }
   ],
   "source": [
    "model = pm.Model([constants_prob,lowpass,observed_MIC])\n",
    " \n",
    "# fit the model with mcmc\n",
    "map_ = pm.MAP(model)\n",
    "map_.fit()\n",
    "mcmc = pm.MCMC(model)\n",
    "mcmc.sample(20000, burn=5000, thin=50)"
   ]
  },
  {
   "cell_type": "code",
   "execution_count": 6,
   "metadata": {},
   "outputs": [],
   "source": [
    "#MCMC samples turned to arrays\n",
    "constants_samples=mcmc.trace('constants_prob')[:]\n",
    "lowpass_samples=mcmc.trace('lowpass')[:]"
   ]
  },
  {
   "cell_type": "code",
   "execution_count": 8,
   "metadata": {},
   "outputs": [
    {
     "data": {
      "text/plain": [
       "0.053007720225791852"
      ]
     },
     "execution_count": 8,
     "metadata": {},
     "output_type": "execute_result"
    },
    {
     "data": {
      "image/png": "[encoded data removed]",
      "text/plain": [
       "<matplotlib.figure.Figure at 0x20424ea2ef0>"
      ]
     },
     "metadata": {},
     "output_type": "display_data"
    }
   ],
   "source": [
    "#Histogram of variable 1:kcat\n",
    "i=0\n",
    "plt.hist(constants_samples[:,i], histtype='stepfilled', bins=30, alpha=0.85,\n",
    "         label=\"posterior of $constants$\", color=\"#7A68A6\");\n",
    "plt.vlines(np.median(constants_samples[:,i]), 0, 50, linestyle=\"--\", label=\"mean constant\")\n",
    "plt.legend(loc=\"upper left\")\n",
    "plt.title(\"Posterior distribution of costant\")\n",
    "np.median(constants_samples[:,i])"
   ]
  },
  {
   "cell_type": "code",
   "execution_count": null,
   "metadata": {},
   "outputs": [],
   "source": [
    "import pandas as pd\n",
    "medians=np.zeros(8)[:,None]\n",
    "for i in range(8):\n",
    "    medians[i]=np.median(constants_samples[:,i]) \n",
    "\n",
    "pd.DataFrame(medians.T,columns=['$ bg $','$[LacI]$','$\\eta_{LacI}$',iptg[3],iptg[4],iptg[5],iptg[6],iptg[7]])"
   ]
  },
  {
   "cell_type": "code",
   "execution_count": 13,
   "metadata": {},
   "outputs": [
    {
     "data": {
      "text/plain": [
       "array([ 0.04915429,  0.62570899,  0.3169802 ,  0.64259643,  0.34806679,\n",
       "        0.26766727,  0.18546096,  0.14453938])"
      ]
     },
     "execution_count": 13,
     "metadata": {},
     "output_type": "execute_result"
    }
   ],
   "source": [
    "constants_samples[20]"
   ]
  },
  {
   "cell_type": "code",
   "execution_count": 14,
   "metadata": {},
   "outputs": [
    {
     "name": "stdout",
     "output_type": "stream",
     "text": [
      "model: [  56.25  225.    225.    450.    450.    450.    225.    225.    225.\n",
      "  225.    225.    225.  ]\n",
      "Exp: [  56.25  225.    225.    450.    450.    450.    225.    450.    225.\n",
      "  225.    225.    225.  ]\n"
     ]
    }
   ],
   "source": [
    "print('model:',lowpass_samples[20])\n",
    "print('Exp:', MIC_exp)"
   ]
  },
  {
   "cell_type": "code",
   "execution_count": null,
   "metadata": {},
   "outputs": [],
   "source": [
    "from IPython.core.display import HTML\n",
    "\n",
    "\n",
    "def css_styling():\n",
    "    styles = open(\"styles/custom.css\", \"r\").read()\n",
    "    return HTML(styles)\n",
    "css_styling()"
   ]
  }
 ],
 "metadata": {
  "anaconda-cloud": {},
  "kernelspec": {
   "display_name": "Python 3",
   "language": "python",
   "name": "python3"
  },
  "language_info": {
   "codemirror_mode": {
    "name": "ipython",
    "version": 3
   },
   "file_extension": ".py",
   "mimetype": "text/x-python",
   "name": "python",
   "nbconvert_exporter": "python",
   "pygments_lexer": "ipython3",
   "version": "3.6.1"
  }
 },
 "nbformat": 4,
 "nbformat_minor": 2
}
