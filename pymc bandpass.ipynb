{
 "cells": [
  {
   "cell_type": "markdown",
   "metadata": {},
   "source": [
    "<h1><center>Bandpass Filter Parameter Estimation using PyMC</center></h1>\n",
    "<h2><center>Solving the Model System in parts</center></h2>\n",
    "The approach to solving the bandpass parameter estimation problem is to break it down into two parts, essentially simulating its response as a *lowpass filter* followed by a *highpass filter*. Since the last update, I've also simplified the model further keeping only the essential differential equations. Intracellular concentrations of metabolites not directly affected by the bandpass filter like $ [LacI]$ and $[AmpR]$ are considered to be constant. I've also not taken into consideration *Hitchhicker protein's* mechanism with the assumption that it will only modulate some of the constants optimized and not have an effect on the structure of the ODEs.\n",
    "\n",
    "The model equations are as follows:\n",
    "\n",
    "$\\frac{d[BLA]}{dt}= \\frac{\\beta_{BLA}}{1+\\Big(\\frac{[LacI]_{T}\\Big/K_{LacI}}{ 1+\\big( \n",
    "[IPTG]\\big/K_{IPTG}\\big) ^{\\eta_{IPTG}} }\\Big) ^{\\eta_{LacI}}}- \\gamma _{BLA}[BLA]$ \n",
    "\n",
    "$\\frac{d[Amp]}{dt}= k_{t,Amp}([Amp]_{ext}-[Amp] ) -\\frac{k_{cat,BLA}[BLA][Amp]}{K_{m,BLA}+[Amp] }$ \n",
    "\n",
    "[//]:($\\frac{d[aMPp]}{dt}= k_{Amp}\\lbrack Amp\\rbrack - \\gamma _{aMPp}\\lbrack \n",
    "aMPp\\rbrack $)\n",
    "\n",
    "$\\frac{d[TetC]}{dt}= \\frac{\\beta _{TetC}}\n",
    "{1+ \\Big( \\frac{[AmpR]\\Big/K_{AmpR}}{1+\\big([Amp]\\big/K_{Amp}\\big) ^{\\eta {Amp}} }\\big) ^{\\eta _{AmpR}}}- \\gamma _{TetC}[TetC]$\n",
    "\n",
    "$\\frac{d[Tet]}{dt}= k_{t,Tet}([Tet]_{ext}-[Tet]) - k_{TetC}[TetC][Tet]$"
   ]
  },
  {
   "cell_type": "code",
   "execution_count": 3,
   "metadata": {
    "collapsed": true
   },
   "outputs": [],
   "source": [
    "import pymc as pm\n",
    "import numpy as np\n",
    "import matplotlib.pyplot as plt\n",
    "%matplotlib inline\n",
    "import pandas as pd"
   ]
  },
  {
   "cell_type": "code",
   "execution_count": 22,
   "metadata": {
    "collapsed": false
   },
   "outputs": [],
   "source": [
    "exp=np.genfromtxt(\"data/expdata.txt\", delimiter='\\t')\n",
    "amp0=np.genfromtxt(\"data/amp0.txt\", delimiter='\\t')\n",
    "iptg=exp[:,0]\n",
    "tet0=exp[:,1]\n",
    "MIC_exp=exp[:,2]\n",
    "IND_exp=exp[:,3]\n",
    "amp0=np.sort(amp0)"
   ]
  },
  {
   "cell_type": "code",
   "execution_count": 53,
   "metadata": {
    "collapsed": false
   },
   "outputs": [],
   "source": [
    "#defining prior distributions of our unknown variables \n",
    "constants_prob = pm.Uniform('constants_prob', 0.001, 1.0,size=15)\n",
    "\n",
    "\n",
    "@pm.deterministic\n",
    "def bandpass(constants_prob=constants_prob,iptg=iptg,tet0=tet0,amp0=amp0):\n",
    "    bg_bla=constants_prob[0]*5000     #20/0.1 #uM/min combo of beta and gamma\n",
    "    laci=constants_prob[1]*50         #0.01 #uM combo of laci/kd_laci\n",
    "    #kd_laci=constants_prob[2]*5e-3   #7.8e-4 #uM\n",
    "    n_laci=constants_prob[2]*5        #2.5\n",
    "    kd_iptg=constants_prob[3]*50      #25 #uM\n",
    "    n_iptg=constants_prob[4]*5        #2\n",
    "    #kcat=constants_prob[6]*5e6       #2.82e5 #1/m\n",
    "    km=constants_prob[5]*500          #100 #uM\n",
    "    ktr=constants_prob[6]*1e-2        #1e3 Combo of ktr and kcat\n",
    "    MIC_int=constants_prob[7]*5       #amp[0,5]\n",
    "    bg_tetc=constants_prob[8]*5000    #10/0.1 #uM/min combo of beta and gamma\n",
    "    ampr=constants_prob[9]*1e4        #0.1/1e-2 #uM combo of ampr/kd_ampr\n",
    "    n_ampr=constants_prob[10]*5       #1\n",
    "    kd_amp=constants_prob[11]*10      #0.5 #uM\n",
    "    n_amp=constants_prob[12]*5        #1\n",
    "    k_tet=constants_prob[13]*1000      #10\n",
    "    MIC_tet_int=constants_prob[14]*5  #2\n",
    "    \n",
    "    bla=np.zeros(len(iptg))\n",
    "    for i in range(len(iptg)):\n",
    "        D_iptg=1+(iptg[i]/kd_iptg)**n_iptg\n",
    "        D_laci=1+(laci/(D_iptg))**n_laci\n",
    "        bla[i]=bg_bla/D_laci\n",
    "\n",
    "    amp=np.zeros((len(bla),len(amp0)))\n",
    "    for i in range(len(bla)):\n",
    "        for j in range(len(amp0)):\n",
    "            coeff=[-ktr,(ktr*amp0[j]-ktr*km-bla[i]),ktr*amp0[j]*km]\n",
    "            sol=np.roots(coeff)\n",
    "            if sol[0]>=0 and sol[0]<=amp0[j]:\n",
    "                amp[i,j]=sol[0]\n",
    "            else:\n",
    "                amp[i,j]=sol[1]\n",
    "\n",
    "    #amp=amp*349.41/1000 #convert to ug/ml\n",
    "\n",
    "    MIC_mod=np.zeros(len(iptg))\n",
    "    for i in range(len(iptg)):\n",
    "        for j in range(len(amp0)):\n",
    "            if amp[i,j]>=MIC_int:\n",
    "                break\n",
    "            MIC_mod[i]=amp0[j]\n",
    "    \n",
    "\n",
    "    tetc=np.zeros((len(iptg),len(amp0)))\n",
    "    tet=np.zeros((len(iptg),len(amp0)))\n",
    "    for i in range(len(iptg)):\n",
    "        for j in range(len(amp0)):\n",
    "            D_amp=1+(amp[i,j]/kd_amp)**n_amp\n",
    "            D_ampr=1+(ampr/(D_amp))**n_ampr\n",
    "            tetc[i,j]=bg_tetc/D_ampr\n",
    "            tet[i,j]=tet0[i]*k_tet/(k_tet+tetc[i,j])\n",
    "    \n",
    "    MIC_tet_mod=np.zeros(len(iptg))\n",
    "    for i in range(len(iptg)):\n",
    "        for j in range(len(amp0)):\n",
    "            if tet[i,j]<=MIC_tet_int:\n",
    "                break\n",
    "            MIC_tet_mod[i]=amp0[j]\n",
    "            \n",
    "    modeloutput=np.zeros((len(iptg),2))\n",
    "    for i in range(len(iptg)):\n",
    "        modeloutput[i,0]=MIC_mod[i]\n",
    "        modeloutput[i,1]=MIC_tet_mod[i]\n",
    "    return modeloutput"
   ]
  },
  {
   "cell_type": "code",
   "execution_count": 54,
   "metadata": {
    "collapsed": false
   },
   "outputs": [],
   "source": [
    "comp_exp=exp[:,2:]\n",
    "\n",
    "observed_MIC = pm.Normal('observed_MIC', mu=bandpass,tau=1000,value=comp_exp, observed=True)"
   ]
  },
  {
   "cell_type": "code",
   "execution_count": 55,
   "metadata": {
    "collapsed": false
   },
   "outputs": [
    {
     "name": "stdout",
     "output_type": "stream",
     "text": [
      " [-----------------100%-----------------] 10000 of 10000 complete in 80.2 sec"
     ]
    }
   ],
   "source": [
    "model = pm.Model([constants_prob,bandpass,observed_MIC])\n",
    " \n",
    "# fit the model with mcmc\n",
    "map_ = pm.MAP(model)\n",
    "map_.fit()\n",
    "mcmc = pm.MCMC(model)\n",
    "mcmc.sample(10000, burn=1000, thin=20)"
   ]
  },
  {
   "cell_type": "code",
   "execution_count": 56,
   "metadata": {
    "collapsed": true
   },
   "outputs": [],
   "source": [
    "#MCMC samples turned to arrays\n",
    "constants_samples=mcmc.trace('constants_prob')[:]\n",
    "bandpass_samples=mcmc.trace('bandpass')[:]"
   ]
  },
  {
   "cell_type": "code",
   "execution_count": 57,
   "metadata": {
    "collapsed": false
   },
   "outputs": [
    {
     "data": {
      "text/plain": [
       "0.0082647067866667371"
      ]
     },
     "execution_count": 57,
     "metadata": {},
     "output_type": "execute_result"
    },
    {
     "data": {
      "image/png": "[encoded data removed]",
      "text/plain": [
       "<matplotlib.figure.Figure at 0x16d1d5b2dd8>"
      ]
     },
     "metadata": {},
     "output_type": "display_data"
    }
   ],
   "source": [
    "#Histogram of variable 1:kcat\n",
    "i=13\n",
    "plt.hist(constants_samples[:,i], histtype='stepfilled', bins=30, alpha=0.85,\n",
    "         label=\"posterior of $constants$\", color=\"#7A68A6\");\n",
    "plt.vlines(np.median(constants_samples[:,i]), 0, 100, linestyle=\"--\", label=\"mean constant\")\n",
    "plt.legend(loc=\"upper left\")\n",
    "plt.title(\"Posterior distribution of costant\")\n",
    "np.median(constants_samples[:,i])"
   ]
  },
  {
   "cell_type": "code",
   "execution_count": 9,
   "metadata": {
    "collapsed": false
   },
   "outputs": [
    {
     "data": {
      "text/html": [
       "<div>\n",
       "<table border=\"1\" class=\"dataframe\">\n",
       "  <thead>\n",
       "    <tr style=\"text-align: right;\">\n",
       "      <th></th>\n",
       "      <th>$ bg $</th>\n",
       "      <th>$[LacI]$</th>\n",
       "      <th>$\\eta_{LacI}$</th>\n",
       "      <th>20.0</th>\n",
       "      <th>30.0</th>\n",
       "      <th>50.0</th>\n",
       "      <th>75.0</th>\n",
       "      <th>300.0</th>\n",
       "    </tr>\n",
       "  </thead>\n",
       "  <tbody>\n",
       "    <tr>\n",
       "      <th>0</th>\n",
       "      <td>0.62077</td>\n",
       "      <td>0.484605</td>\n",
       "      <td>0.387646</td>\n",
       "      <td>0.207683</td>\n",
       "      <td>0.224749</td>\n",
       "      <td>0.431479</td>\n",
       "      <td>0.305297</td>\n",
       "      <td>0.111911</td>\n",
       "    </tr>\n",
       "  </tbody>\n",
       "</table>\n",
       "</div>"
      ],
      "text/plain": [
       "    $ bg $  $[LacI]$  $\\eta_{LacI}$      20.0      30.0      50.0      75.0  \\\n",
       "0  0.62077  0.484605       0.387646  0.207683  0.224749  0.431479  0.305297   \n",
       "\n",
       "      300.0  \n",
       "0  0.111911  "
      ]
     },
     "execution_count": 9,
     "metadata": {},
     "output_type": "execute_result"
    }
   ],
   "source": [
    "import pandas as pd\n",
    "medians=np.zeros(8)[:,None]\n",
    "for i in range(8):\n",
    "    medians[i]=np.median(constants_samples[:,i]) \n",
    "\n",
    "pd.DataFrame(medians.T,columns=['$ bg $','$[LacI]$','$\\eta_{LacI}$',iptg[3],iptg[4],iptg[5],iptg[6],iptg[7]])"
   ]
  },
  {
   "cell_type": "code",
   "execution_count": 61,
   "metadata": {
    "collapsed": false
   },
   "outputs": [
    {
     "data": {
      "text/plain": [
       "array([[ 112.5,  450. ],\n",
       "       [ 225. ,  450. ],\n",
       "       [ 225. ,  450. ],\n",
       "       [ 450. ,  450. ],\n",
       "       [ 450. ,  450. ],\n",
       "       [ 450. ,  450. ],\n",
       "       [ 225. ,  450. ],\n",
       "       [ 225. ,  450. ],\n",
       "       [ 225. ,  450. ],\n",
       "       [ 225. ,  450. ],\n",
       "       [ 225. ,  450. ],\n",
       "       [ 225. ,  450. ]])"
      ]
     },
     "execution_count": 61,
     "metadata": {},
     "output_type": "execute_result"
    }
   ],
   "source": [
    "bandpass_samples.mean"
   ]
  },
  {
   "cell_type": "code",
   "execution_count": 40,
   "metadata": {
    "collapsed": false
   },
   "outputs": [
    {
     "data": {
      "text/plain": [
       "array([[  56.25 ,    1.758],\n",
       "       [ 225.   ,    3.516],\n",
       "       [ 225.   ,    7.031],\n",
       "       [ 450.   ,    7.031],\n",
       "       [ 450.   ,    7.031],\n",
       "       [ 450.   ,    7.031],\n",
       "       [ 225.   ,    0.   ],\n",
       "       [ 450.   ,    0.   ],\n",
       "       [ 225.   ,    3.516],\n",
       "       [ 225.   ,    7.031],\n",
       "       [ 225.   ,    7.031],\n",
       "       [ 225.   ,   14.063]])"
      ]
     },
     "execution_count": 40,
     "metadata": {},
     "output_type": "execute_result"
    }
   ],
   "source": [
    "comp_exp"
   ]
  },
  {
   "cell_type": "code",
   "execution_count": 9,
   "metadata": {
    "collapsed": false
   },
   "outputs": [
    {
     "data": {
      "text/html": [
       "<style>\n",
       "    @font-face {\n",
       "        font-family: \"Computer Modern\";\n",
       "        src: url('http://9dbb143991406a7c655e-aa5fcb0a5a4ec34cff238a2d56ca4144.r56.cf5.rackcdn.com/cmunss.otf');\n",
       "    }\n",
       "    @font-face {\n",
       "        font-family: \"Computer Modern\";\n",
       "        font-weight: bold;\n",
       "        src: url('http://9dbb143991406a7c655e-aa5fcb0a5a4ec34cff238a2d56ca4144.r56.cf5.rackcdn.com/cmunsx.otf');\n",
       "    }\n",
       "    @font-face {\n",
       "        font-family: \"Computer Modern\";\n",
       "        font-style: oblique;\n",
       "        src: url('http://9dbb143991406a7c655e-aa5fcb0a5a4ec34cff238a2d56ca4144.r56.cf5.rackcdn.com/cmunsi.otf');\n",
       "    }\n",
       "    @font-face {\n",
       "        font-family: \"Computer Modern\";\n",
       "        font-weight: bold;\n",
       "        font-style: oblique;\n",
       "        src: url('http://9dbb143991406a7c655e-aa5fcb0a5a4ec34cff238a2d56ca4144.r56.cf5.rackcdn.com/cmunso.otf');\n",
       "    }\n",
       "    div.cell{\n",
       "        width:950px;\n",
       "        margin-left:8% !important;\n",
       "        margin-right:auto;\n",
       "    }\n",
       "    h1 {\n",
       "        font-family: Helvetica, serif;\n",
       "    }\n",
       "    h4{\n",
       "        margin-top:12px;\n",
       "        margin-bottom: 3px;\n",
       "       }\n",
       "    div.text_cell_render{\n",
       "        font-family: Computer Modern, \"Helvetica Neue\", Arial, Helvetica, Geneva, sans-serif;\n",
       "        line-height: 125%;\n",
       "        font-size: 110%;\n",
       "        width:800px;\n",
       "        margin-left:auto;\n",
       "        margin-right:auto;\n",
       "    }\n",
       "    .CodeMirror{\n",
       "            font-family: \"Source Code Pro\", source-code-pro,Consolas, monospace;\n",
       "    }\n",
       "    .prompt{\n",
       "        display: left;\n",
       "    }\n",
       "    .text_cell_render h5 {\n",
       "        font-weight: 300;\n",
       "        font-size: 22pt;\n",
       "        color: #4057A1;\n",
       "        font-style: italic;\n",
       "        margin-bottom: .5em;\n",
       "        margin-top: 0.5em;\n",
       "        display: block;\n",
       "    }\n",
       "    \n",
       "    .warning{\n",
       "        color: rgb( 240, 20, 20 )\n",
       "        }  \n",
       "</style>\n",
       "<script>\n",
       "    MathJax.Hub.Config({\n",
       "                        TeX: {\n",
       "                           extensions: [\"AMSmath.js\"]\n",
       "                           },\n",
       "                tex2jax: {\n",
       "                    inlineMath: [ ['$','$'], [\"\\\\(\",\"\\\\)\"] ],\n",
       "                    displayMath: [ ['$$','$$'], [\"\\\\[\",\"\\\\]\"] ]\n",
       "                },\n",
       "                displayAlign: 'center', // Change this to 'center' to center equations.\n",
       "                \"HTML-CSS\": {\n",
       "                    styles: {'.MathJax_Display': {\"margin\": 4}}\n",
       "                }\n",
       "        });\n",
       "</script>\n"
      ],
      "text/plain": [
       "<IPython.core.display.HTML object>"
      ]
     },
     "execution_count": 9,
     "metadata": {},
     "output_type": "execute_result"
    }
   ],
   "source": [
    "from IPython.core.display import HTML\n",
    "\n",
    "\n",
    "def css_styling():\n",
    "    styles = open(\"styles/custom.css\", \"r\").read()\n",
    "    return HTML(styles)\n",
    "css_styling()"
   ]
  }
 ],
 "metadata": {
  "anaconda-cloud": {},
  "kernelspec": {
   "display_name": "Python [Root]",
   "language": "python",
   "name": "Python [Root]"
  },
  "language_info": {
   "codemirror_mode": {
    "name": "ipython",
    "version": 3
   },
   "file_extension": ".py",
   "mimetype": "text/x-python",
   "name": "python",
   "nbconvert_exporter": "python",
   "pygments_lexer": "ipython3",
   "version": "3.5.2"
  }
 },
 "nbformat": 4,
 "nbformat_minor": 2
}
