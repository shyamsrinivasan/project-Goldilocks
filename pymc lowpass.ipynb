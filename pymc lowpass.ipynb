{
 "cells": [
  {
   "cell_type": "markdown",
   "metadata": {},
   "source": [
    "<h1><center>Bandpass Filter Parameter Estimation using PyMC</center></h1>\n",
    "<h2><center>Solving the Model System in parts</center></h2>\n",
    "<p>I've implemented a simplified \n",
    "</p>"
   ]
  },
  {
   "cell_type": "code",
   "execution_count": 1,
   "metadata": {
    "collapsed": true
   },
   "outputs": [],
   "source": [
    "import pymc as pm\n",
    "import numpy as np\n",
    "from scipy.integrate import odeint\n",
    "import matplotlib.pyplot as plt\n",
    "%matplotlib inline"
   ]
  },
  {
   "cell_type": "code",
   "execution_count": 2,
   "metadata": {
    "collapsed": true
   },
   "outputs": [],
   "source": [
    "exp=np.array([[16,0.3],[32,5],[64,10],[128, 20],[256 ,30],[512 , 50],[1024 , 75],[2048 , 300]])\n",
    "iptg=exp[:,1]\n",
    "MIC_exp=exp[:,0]"
   ]
  },
  {
   "cell_type": "code",
   "execution_count": 3,
   "metadata": {
    "collapsed": true
   },
   "outputs": [],
   "source": [
    "#defining prior distributions of our unknown variables \n",
    "constants_prob = pm.Uniform('constants_prob', 0.01, 1.0,size=10)\n",
    "\n",
    "\n",
    "@pm.deterministic\n",
    "def lowpass(constants_prob=constants_prob,iptg=iptg):\n",
    "    bg_bla=constants_prob[0]*5000     #20/0.1 #uM/min combo of beta and gamma\n",
    "    laci=constants_prob[1]*0.05       #0.01 #uM\n",
    "    kd_laci=constants_prob[2]*5e-3    #7.8e-4 #uM\n",
    "    n_laci=constants_prob[3]*5        #2.5\n",
    "    kd_iptg=constants_prob[4]*50      #25 #uM\n",
    "    n_iptg=constants_prob[5]*5        #2\n",
    "    kcat=constants_prob[6]*5e6        #2.82e5 #1/m\n",
    "    km=constants_prob[7]*500          #100 #uM\n",
    "    ktr=constants_prob[8]*5e4         #1e3\n",
    "    MIC_int=constants_prob[9]*5       #amp[0,5]\n",
    "    \n",
    "    \n",
    "    bla=np.zeros(len(iptg))\n",
    "    for i in range(len(iptg)):\n",
    "        D_iptg=1+(iptg[i]/kd_iptg)**n_iptg\n",
    "        D_laci=1+(laci/(kd_laci*D_iptg))**n_laci\n",
    "        bla[i]=bg_bla/D_laci\n",
    "\n",
    "    amp0=[2**i for i in range(12) ]\n",
    "    amp=np.zeros((len(bla),len(amp0)))\n",
    "    for i in range(len(bla)):\n",
    "        for j in range(len(amp0)):\n",
    "            coeff=[-ktr,(ktr*amp0[j]-ktr*km-kcat*bla[i]),ktr*amp0[j]*km]\n",
    "            sol=np.roots(coeff)\n",
    "            if sol[0]>=0 and sol[0]<amp0[j]:\n",
    "                amp[i,j]=sol[0]\n",
    "            else:\n",
    "                amp[i,j]=sol[1]\n",
    "\n",
    "    amp=amp*349.41/1000 #convert to ug/ml\n",
    "\n",
    "    MIC_mod=np.zeros(len(iptg))\n",
    "    for i in range(len(iptg)):\n",
    "        for j in range(len(amp0)):\n",
    "            if amp[i,j]>=MIC_int:\n",
    "                break\n",
    "            MIC_mod[i]=amp0[j]\n",
    "    return MIC_mod"
   ]
  },
  {
   "cell_type": "code",
   "execution_count": 4,
   "metadata": {
    "collapsed": false
   },
   "outputs": [],
   "source": [
    "observed_MIC = pm.Normal('observed_MIC', mu=lowpass,tau=1000,value=MIC_exp, observed=True)"
   ]
  },
  {
   "cell_type": "code",
   "execution_count": 17,
   "metadata": {
    "collapsed": false
   },
   "outputs": [
    {
     "name": "stdout",
     "output_type": "stream",
     "text": [
      " [-----------------100%-----------------] 5000 of 5000 complete in 48.5 sec"
     ]
    }
   ],
   "source": [
    "model = pm.Model([constants_prob,lowpass,observed_MIC])\n",
    " \n",
    "# fit the model with mcmc\n",
    "map_ = pm.MAP(model)\n",
    "map_.fit()\n",
    "mcmc = pm.MCMC(model)\n",
    "constants_samples=np.zeros(10)\n",
    "for i in range(10):\n",
    "    mcmc.sample(5000, burn=500, thin=20)\n",
    "    constants=mcmc.trace('constants_prob')[:]\n",
    "    constants_samples=np.vstack((constants_samples,constants))"
   ]
  },
  {
   "cell_type": "code",
   "execution_count": null,
   "metadata": {
    "collapsed": true
   },
   "outputs": [],
   "source": [
    "#MCMC samples turned to arrays\n",
    "constants_samples=mcmc.trace('constants_prob')[:]"
   ]
  },
  {
   "cell_type": "code",
   "execution_count": 23,
   "metadata": {
    "collapsed": false
   },
   "outputs": [
    {
     "data": {
      "text/plain": [
       "0.29355390154294919"
      ]
     },
     "execution_count": 23,
     "metadata": {},
     "output_type": "execute_result"
    },
    {
     "data": {
      "image/png": "[encoded data removed]",
      "text/plain": [
       "<matplotlib.figure.Figure at 0x25e18036940>"
      ]
     },
     "metadata": {},
     "output_type": "display_data"
    }
   ],
   "source": [
    "#Histogram of variable 1:kcat\n",
    "i=4\n",
    "plt.hist(constants_samples[:,i], histtype='stepfilled', bins=30, alpha=0.85,\n",
    "         label=\"posterior of $constants$\", color=\"#7A68A6\");\n",
    "plt.vlines(np.median(constants_samples[:,i]), 0, 250, linestyle=\"--\", label=\"mean constant\")\n",
    "plt.legend(loc=\"upper left\")\n",
    "plt.title(\"Posterior distribution of costant\")\n",
    "np.median(constants_samples[:,i])"
   ]
  },
  {
   "cell_type": "code",
   "execution_count": 7,
   "metadata": {
    "collapsed": false
   },
   "outputs": [
    {
     "data": {
      "text/plain": [
       "(3901, 10)"
      ]
     },
     "execution_count": 7,
     "metadata": {},
     "output_type": "execute_result"
    }
   ],
   "source": [
    "constants_samples.shape"
   ]
  },
  {
   "cell_type": "code",
   "execution_count": 11,
   "metadata": {
    "collapsed": false
   },
   "outputs": [
    {
     "data": {
      "text/html": [
       "<style>\n",
       "    @font-face {\n",
       "        font-family: \"Computer Modern\";\n",
       "        src: url('http://9dbb143991406a7c655e-aa5fcb0a5a4ec34cff238a2d56ca4144.r56.cf5.rackcdn.com/cmunss.otf');\n",
       "    }\n",
       "    @font-face {\n",
       "        font-family: \"Computer Modern\";\n",
       "        font-weight: bold;\n",
       "        src: url('http://9dbb143991406a7c655e-aa5fcb0a5a4ec34cff238a2d56ca4144.r56.cf5.rackcdn.com/cmunsx.otf');\n",
       "    }\n",
       "    @font-face {\n",
       "        font-family: \"Computer Modern\";\n",
       "        font-style: oblique;\n",
       "        src: url('http://9dbb143991406a7c655e-aa5fcb0a5a4ec34cff238a2d56ca4144.r56.cf5.rackcdn.com/cmunsi.otf');\n",
       "    }\n",
       "    @font-face {\n",
       "        font-family: \"Computer Modern\";\n",
       "        font-weight: bold;\n",
       "        font-style: oblique;\n",
       "        src: url('http://9dbb143991406a7c655e-aa5fcb0a5a4ec34cff238a2d56ca4144.r56.cf5.rackcdn.com/cmunso.otf');\n",
       "    }\n",
       "    div.cell{\n",
       "        width:950px;\n",
       "        margin-left:8% !important;\n",
       "        margin-right:auto;\n",
       "    }\n",
       "    h1 {\n",
       "        font-family: Helvetica, serif;\n",
       "    }\n",
       "    h4{\n",
       "        margin-top:12px;\n",
       "        margin-bottom: 3px;\n",
       "       }\n",
       "    div.text_cell_render{\n",
       "        font-family: Computer Modern, \"Helvetica Neue\", Arial, Helvetica, Geneva, sans-serif;\n",
       "        line-height: 125%;\n",
       "        font-size: 110%;\n",
       "        width:800px;\n",
       "        margin-left:auto;\n",
       "        margin-right:auto;\n",
       "    }\n",
       "    .CodeMirror{\n",
       "            font-family: \"Source Code Pro\", source-code-pro,Consolas, monospace;\n",
       "    }\n",
       "    .prompt{\n",
       "        display: left;\n",
       "    }\n",
       "    .text_cell_render h5 {\n",
       "        font-weight: 300;\n",
       "        font-size: 22pt;\n",
       "        color: #4057A1;\n",
       "        font-style: italic;\n",
       "        margin-bottom: .5em;\n",
       "        margin-top: 0.5em;\n",
       "        display: block;\n",
       "    }\n",
       "    \n",
       "    .warning{\n",
       "        color: rgb( 240, 20, 20 )\n",
       "        }  \n",
       "</style>\n",
       "<script>\n",
       "    MathJax.Hub.Config({\n",
       "                        TeX: {\n",
       "                           extensions: [\"AMSmath.js\"]\n",
       "                           },\n",
       "                tex2jax: {\n",
       "                    inlineMath: [ ['$','$'], [\"\\\\(\",\"\\\\)\"] ],\n",
       "                    displayMath: [ ['$$','$$'], [\"\\\\[\",\"\\\\]\"] ]\n",
       "                },\n",
       "                displayAlign: 'center', // Change this to 'center' to center equations.\n",
       "                \"HTML-CSS\": {\n",
       "                    styles: {'.MathJax_Display': {\"margin\": 4}}\n",
       "                }\n",
       "        });\n",
       "</script>\n"
      ],
      "text/plain": [
       "<IPython.core.display.HTML object>"
      ]
     },
     "execution_count": 11,
     "metadata": {},
     "output_type": "execute_result"
    }
   ],
   "source": [
    "from IPython.core.display import HTML\n",
    "\n",
    "\n",
    "def css_styling():\n",
    "    styles = open(\"styles/custom.css\", \"r\").read()\n",
    "    return HTML(styles)\n",
    "css_styling()"
   ]
  },
  {
   "cell_type": "code",
   "execution_count": null,
   "metadata": {
    "collapsed": true
   },
   "outputs": [],
   "source": []
  }
 ],
 "metadata": {
  "anaconda-cloud": {},
  "kernelspec": {
   "display_name": "Python [Root]",
   "language": "python",
   "name": "Python [Root]"
  },
  "language_info": {
   "codemirror_mode": {
    "name": "ipython",
    "version": 3
   },
   "file_extension": ".py",
   "mimetype": "text/x-python",
   "name": "python",
   "nbconvert_exporter": "python",
   "pygments_lexer": "ipython3",
   "version": "3.5.2"
  }
 },
 "nbformat": 4,
 "nbformat_minor": 2
}
